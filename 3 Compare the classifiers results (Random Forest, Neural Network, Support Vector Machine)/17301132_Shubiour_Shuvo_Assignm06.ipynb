{
  "nbformat": 4,
  "nbformat_minor": 0,
  "metadata": {
    "colab": {
      "name": "17301132_Shubiour Shuvo_Assignm06.ipynb",
      "provenance": [],
      "collapsed_sections": []
    },
    "kernelspec": {
      "name": "python3",
      "display_name": "Python 3"
    }
  },
  "cells": [
    {
      "cell_type": "code",
      "metadata": {
        "colab": {
          "base_uri": "https://localhost:8080/",
          "height": 351
        },
        "id": "C0kHhUIM2q0U",
        "outputId": "ab3aa835-8716-4e20-fadb-42d01a34cc2b"
      },
      "source": [
        "import pandas as pd\r\n",
        "import numpy as np\r\n",
        "import sklearn as skl\r\n",
        "import matplotlib.pyplot as plt\r\n",
        "%matplotlib inline \r\n",
        "df = pd.read_csv('/content/drive/MyDrive/mushroom edibility classification dataset.csv')\r\n",
        "df.head()"
      ],
      "execution_count": 88,
      "outputs": [
        {
          "output_type": "execute_result",
          "data": {
            "text/html": [
              "<div>\n",
              "<style scoped>\n",
              "    .dataframe tbody tr th:only-of-type {\n",
              "        vertical-align: middle;\n",
              "    }\n",
              "\n",
              "    .dataframe tbody tr th {\n",
              "        vertical-align: top;\n",
              "    }\n",
              "\n",
              "    .dataframe thead th {\n",
              "        text-align: right;\n",
              "    }\n",
              "</style>\n",
              "<table border=\"1\" class=\"dataframe\">\n",
              "  <thead>\n",
              "    <tr style=\"text-align: right;\">\n",
              "      <th></th>\n",
              "      <th>Unnamed: 0</th>\n",
              "      <th>class</th>\n",
              "      <th>cap-shape</th>\n",
              "      <th>cap-surface</th>\n",
              "      <th>cap-color</th>\n",
              "      <th>bruises</th>\n",
              "      <th>odor</th>\n",
              "      <th>stalk-shape</th>\n",
              "      <th>stalk-root</th>\n",
              "      <th>stalk-surface-above-ring</th>\n",
              "      <th>stalk-surface-below-ring</th>\n",
              "      <th>stalk-color-above-ring</th>\n",
              "      <th>stalk-color-below-ring</th>\n",
              "      <th>veil-type</th>\n",
              "      <th>veil-color</th>\n",
              "      <th>ring-number</th>\n",
              "      <th>ring-type</th>\n",
              "      <th>spore-print-color</th>\n",
              "      <th>population</th>\n",
              "      <th>habitat</th>\n",
              "    </tr>\n",
              "  </thead>\n",
              "  <tbody>\n",
              "    <tr>\n",
              "      <th>0</th>\n",
              "      <td>0</td>\n",
              "      <td>poisonous</td>\n",
              "      <td>5.0</td>\n",
              "      <td>2</td>\n",
              "      <td>4.0</td>\n",
              "      <td>bruises is there</td>\n",
              "      <td>6</td>\n",
              "      <td>0</td>\n",
              "      <td>3</td>\n",
              "      <td>2</td>\n",
              "      <td>2</td>\n",
              "      <td>7</td>\n",
              "      <td>7</td>\n",
              "      <td>0</td>\n",
              "      <td>2</td>\n",
              "      <td>1</td>\n",
              "      <td>4</td>\n",
              "      <td>2</td>\n",
              "      <td>3</td>\n",
              "      <td>5</td>\n",
              "    </tr>\n",
              "    <tr>\n",
              "      <th>1</th>\n",
              "      <td>1</td>\n",
              "      <td>edible</td>\n",
              "      <td>5.0</td>\n",
              "      <td>2</td>\n",
              "      <td>9.0</td>\n",
              "      <td>bruises is there</td>\n",
              "      <td>0</td>\n",
              "      <td>0</td>\n",
              "      <td>2</td>\n",
              "      <td>2</td>\n",
              "      <td>2</td>\n",
              "      <td>7</td>\n",
              "      <td>7</td>\n",
              "      <td>0</td>\n",
              "      <td>2</td>\n",
              "      <td>1</td>\n",
              "      <td>4</td>\n",
              "      <td>3</td>\n",
              "      <td>2</td>\n",
              "      <td>1</td>\n",
              "    </tr>\n",
              "    <tr>\n",
              "      <th>2</th>\n",
              "      <td>2</td>\n",
              "      <td>edible</td>\n",
              "      <td>0.0</td>\n",
              "      <td>2</td>\n",
              "      <td>8.0</td>\n",
              "      <td>bruises is there</td>\n",
              "      <td>3</td>\n",
              "      <td>0</td>\n",
              "      <td>2</td>\n",
              "      <td>2</td>\n",
              "      <td>2</td>\n",
              "      <td>7</td>\n",
              "      <td>7</td>\n",
              "      <td>0</td>\n",
              "      <td>2</td>\n",
              "      <td>1</td>\n",
              "      <td>4</td>\n",
              "      <td>3</td>\n",
              "      <td>2</td>\n",
              "      <td>3</td>\n",
              "    </tr>\n",
              "    <tr>\n",
              "      <th>3</th>\n",
              "      <td>3</td>\n",
              "      <td>poisonous</td>\n",
              "      <td>5.0</td>\n",
              "      <td>3</td>\n",
              "      <td>8.0</td>\n",
              "      <td>bruises is there</td>\n",
              "      <td>6</td>\n",
              "      <td>0</td>\n",
              "      <td>3</td>\n",
              "      <td>2</td>\n",
              "      <td>2</td>\n",
              "      <td>7</td>\n",
              "      <td>7</td>\n",
              "      <td>0</td>\n",
              "      <td>2</td>\n",
              "      <td>1</td>\n",
              "      <td>4</td>\n",
              "      <td>2</td>\n",
              "      <td>3</td>\n",
              "      <td>5</td>\n",
              "    </tr>\n",
              "    <tr>\n",
              "      <th>4</th>\n",
              "      <td>4</td>\n",
              "      <td>edible</td>\n",
              "      <td>5.0</td>\n",
              "      <td>2</td>\n",
              "      <td>3.0</td>\n",
              "      <td>no bruises</td>\n",
              "      <td>5</td>\n",
              "      <td>1</td>\n",
              "      <td>3</td>\n",
              "      <td>2</td>\n",
              "      <td>2</td>\n",
              "      <td>7</td>\n",
              "      <td>7</td>\n",
              "      <td>0</td>\n",
              "      <td>2</td>\n",
              "      <td>1</td>\n",
              "      <td>0</td>\n",
              "      <td>3</td>\n",
              "      <td>0</td>\n",
              "      <td>1</td>\n",
              "    </tr>\n",
              "  </tbody>\n",
              "</table>\n",
              "</div>"
            ],
            "text/plain": [
              "   Unnamed: 0      class  cap-shape  ...  spore-print-color  population habitat\n",
              "0           0  poisonous        5.0  ...                  2           3       5\n",
              "1           1     edible        5.0  ...                  3           2       1\n",
              "2           2     edible        0.0  ...                  3           2       3\n",
              "3           3  poisonous        5.0  ...                  2           3       5\n",
              "4           4     edible        5.0  ...                  3           0       1\n",
              "\n",
              "[5 rows x 20 columns]"
            ]
          },
          "metadata": {
            "tags": []
          },
          "execution_count": 88
        }
      ]
    },
    {
      "cell_type": "code",
      "metadata": {
        "id": "gemtZ-wh3E79"
      },
      "source": [
        "#preprossing removing null value\r\n",
        "df= df.dropna(axis=0, subset=[\"cap-shape\",\"cap-color\"])"
      ],
      "execution_count": 89,
      "outputs": []
    },
    {
      "cell_type": "code",
      "metadata": {
        "colab": {
          "base_uri": "https://localhost:8080/",
          "height": 267
        },
        "id": "mHKa21JD7ciO",
        "outputId": "316f5c77-bf1b-4848-da0e-5582d118482a"
      },
      "source": [
        "#Endcoding\r\n",
        "from sklearn.preprocessing import LabelEncoder\r\n",
        "enc = LabelEncoder()\r\n",
        "df['class'] = enc.fit_transform(df['class'])\r\n",
        "df['bruises'] = enc.fit_transform(df['bruises'])\r\n",
        "df.head()"
      ],
      "execution_count": 90,
      "outputs": [
        {
          "output_type": "execute_result",
          "data": {
            "text/html": [
              "<div>\n",
              "<style scoped>\n",
              "    .dataframe tbody tr th:only-of-type {\n",
              "        vertical-align: middle;\n",
              "    }\n",
              "\n",
              "    .dataframe tbody tr th {\n",
              "        vertical-align: top;\n",
              "    }\n",
              "\n",
              "    .dataframe thead th {\n",
              "        text-align: right;\n",
              "    }\n",
              "</style>\n",
              "<table border=\"1\" class=\"dataframe\">\n",
              "  <thead>\n",
              "    <tr style=\"text-align: right;\">\n",
              "      <th></th>\n",
              "      <th>Unnamed: 0</th>\n",
              "      <th>class</th>\n",
              "      <th>cap-shape</th>\n",
              "      <th>cap-surface</th>\n",
              "      <th>cap-color</th>\n",
              "      <th>bruises</th>\n",
              "      <th>odor</th>\n",
              "      <th>stalk-shape</th>\n",
              "      <th>stalk-root</th>\n",
              "      <th>stalk-surface-above-ring</th>\n",
              "      <th>stalk-surface-below-ring</th>\n",
              "      <th>stalk-color-above-ring</th>\n",
              "      <th>stalk-color-below-ring</th>\n",
              "      <th>veil-type</th>\n",
              "      <th>veil-color</th>\n",
              "      <th>ring-number</th>\n",
              "      <th>ring-type</th>\n",
              "      <th>spore-print-color</th>\n",
              "      <th>population</th>\n",
              "      <th>habitat</th>\n",
              "    </tr>\n",
              "  </thead>\n",
              "  <tbody>\n",
              "    <tr>\n",
              "      <th>0</th>\n",
              "      <td>0</td>\n",
              "      <td>1</td>\n",
              "      <td>5.0</td>\n",
              "      <td>2</td>\n",
              "      <td>4.0</td>\n",
              "      <td>0</td>\n",
              "      <td>6</td>\n",
              "      <td>0</td>\n",
              "      <td>3</td>\n",
              "      <td>2</td>\n",
              "      <td>2</td>\n",
              "      <td>7</td>\n",
              "      <td>7</td>\n",
              "      <td>0</td>\n",
              "      <td>2</td>\n",
              "      <td>1</td>\n",
              "      <td>4</td>\n",
              "      <td>2</td>\n",
              "      <td>3</td>\n",
              "      <td>5</td>\n",
              "    </tr>\n",
              "    <tr>\n",
              "      <th>1</th>\n",
              "      <td>1</td>\n",
              "      <td>0</td>\n",
              "      <td>5.0</td>\n",
              "      <td>2</td>\n",
              "      <td>9.0</td>\n",
              "      <td>0</td>\n",
              "      <td>0</td>\n",
              "      <td>0</td>\n",
              "      <td>2</td>\n",
              "      <td>2</td>\n",
              "      <td>2</td>\n",
              "      <td>7</td>\n",
              "      <td>7</td>\n",
              "      <td>0</td>\n",
              "      <td>2</td>\n",
              "      <td>1</td>\n",
              "      <td>4</td>\n",
              "      <td>3</td>\n",
              "      <td>2</td>\n",
              "      <td>1</td>\n",
              "    </tr>\n",
              "    <tr>\n",
              "      <th>2</th>\n",
              "      <td>2</td>\n",
              "      <td>0</td>\n",
              "      <td>0.0</td>\n",
              "      <td>2</td>\n",
              "      <td>8.0</td>\n",
              "      <td>0</td>\n",
              "      <td>3</td>\n",
              "      <td>0</td>\n",
              "      <td>2</td>\n",
              "      <td>2</td>\n",
              "      <td>2</td>\n",
              "      <td>7</td>\n",
              "      <td>7</td>\n",
              "      <td>0</td>\n",
              "      <td>2</td>\n",
              "      <td>1</td>\n",
              "      <td>4</td>\n",
              "      <td>3</td>\n",
              "      <td>2</td>\n",
              "      <td>3</td>\n",
              "    </tr>\n",
              "    <tr>\n",
              "      <th>3</th>\n",
              "      <td>3</td>\n",
              "      <td>1</td>\n",
              "      <td>5.0</td>\n",
              "      <td>3</td>\n",
              "      <td>8.0</td>\n",
              "      <td>0</td>\n",
              "      <td>6</td>\n",
              "      <td>0</td>\n",
              "      <td>3</td>\n",
              "      <td>2</td>\n",
              "      <td>2</td>\n",
              "      <td>7</td>\n",
              "      <td>7</td>\n",
              "      <td>0</td>\n",
              "      <td>2</td>\n",
              "      <td>1</td>\n",
              "      <td>4</td>\n",
              "      <td>2</td>\n",
              "      <td>3</td>\n",
              "      <td>5</td>\n",
              "    </tr>\n",
              "    <tr>\n",
              "      <th>4</th>\n",
              "      <td>4</td>\n",
              "      <td>0</td>\n",
              "      <td>5.0</td>\n",
              "      <td>2</td>\n",
              "      <td>3.0</td>\n",
              "      <td>1</td>\n",
              "      <td>5</td>\n",
              "      <td>1</td>\n",
              "      <td>3</td>\n",
              "      <td>2</td>\n",
              "      <td>2</td>\n",
              "      <td>7</td>\n",
              "      <td>7</td>\n",
              "      <td>0</td>\n",
              "      <td>2</td>\n",
              "      <td>1</td>\n",
              "      <td>0</td>\n",
              "      <td>3</td>\n",
              "      <td>0</td>\n",
              "      <td>1</td>\n",
              "    </tr>\n",
              "  </tbody>\n",
              "</table>\n",
              "</div>"
            ],
            "text/plain": [
              "   Unnamed: 0  class  cap-shape  ...  spore-print-color  population  habitat\n",
              "0           0      1        5.0  ...                  2           3        5\n",
              "1           1      0        5.0  ...                  3           2        1\n",
              "2           2      0        0.0  ...                  3           2        3\n",
              "3           3      1        5.0  ...                  2           3        5\n",
              "4           4      0        5.0  ...                  3           0        1\n",
              "\n",
              "[5 rows x 20 columns]"
            ]
          },
          "metadata": {
            "tags": []
          },
          "execution_count": 90
        }
      ]
    },
    {
      "cell_type": "code",
      "metadata": {
        "id": "oDdVOnFc4eo-"
      },
      "source": [
        "from sklearn.model_selection import train_test_split\r\n",
        "import matplotlib.pyplot as plt\r\n",
        "import seaborn as sns\r\n",
        "from sklearn.metrics import classification_report\r\n",
        "from sklearn.metrics import accuracy_score\r\n",
        "from sklearn.model_selection import train_test_split\r\n",
        "\r\n",
        "terget = df[\"class\"].values   \r\n",
        "dataset = df.drop([\"class\"], axis=1).values"
      ],
      "execution_count": 91,
      "outputs": []
    },
    {
      "cell_type": "code",
      "metadata": {
        "colab": {
          "base_uri": "https://localhost:8080/"
        },
        "id": "KyjAVKAs5xBj",
        "outputId": "1d321194-baf0-483f-d2b4-e37b42e1c75e"
      },
      "source": [
        "#Split the data into 80% training and 20% testing\r\n",
        "x_train, x_test, y_train, y_test = train_test_split(dataset, terget, test_size=0.2, random_state=42)\r\n",
        "x_train.shape"
      ],
      "execution_count": 92,
      "outputs": [
        {
          "output_type": "execute_result",
          "data": {
            "text/plain": [
              "(2486, 19)"
            ]
          },
          "metadata": {
            "tags": []
          },
          "execution_count": 92
        }
      ]
    },
    {
      "cell_type": "code",
      "metadata": {
        "id": "s44cJ2Sy78HT",
        "colab": {
          "base_uri": "https://localhost:8080/"
        },
        "outputId": "99b8a3fb-bec3-42ee-ebd0-58cbbe60b824"
      },
      "source": [
        "#Support Vector Machine \n",
        "from sklearn.svm import SVC\n",
        "svc = SVC(kernel=\"linear\")\n",
        "svc.fit(x_train, y_train)\n",
        "predictionsSVC = svc.predict(x_test)\n",
        "print(\"Accuracy using Support Vector Machine : {}%\".format(round(accuracy_score(y_test, predictionsSVC)*100,2)) )\n",
        "prePCAsvm=accuracy_score(y_test, predictionsSVC)*100"
      ],
      "execution_count": 121,
      "outputs": [
        {
          "output_type": "stream",
          "text": [
            "Accuracy using Support Vector Machine : 94.21%\n",
            "94.21221864951768\n"
          ],
          "name": "stdout"
        }
      ]
    },
    {
      "cell_type": "code",
      "metadata": {
        "colab": {
          "base_uri": "https://localhost:8080/"
        },
        "id": "CWulmPco527e",
        "outputId": "2e40da55-2e2b-4ec0-ba4e-acf00acd994b"
      },
      "source": [
        "#Random Forest\r\n",
        "from sklearn.ensemble import RandomForestClassifier\r\n",
        "rfc = RandomForestClassifier(n_estimators=50)\r\n",
        "rfc.fit(x_train, y_train)\r\n",
        "predictionsRFC = rfc.predict(x_test)\r\n",
        "print(\"Accuracy using Random Forest: {}%\".format(round(accuracy_score(y_test, predictionsRFC)*100,2)) )\r\n",
        "prePCArfc=accuracy_score(y_test, predictionsRFC)*100"
      ],
      "execution_count": 122,
      "outputs": [
        {
          "output_type": "stream",
          "text": [
            "Accuracy using Random Forest: 99.68%\n"
          ],
          "name": "stdout"
        }
      ]
    },
    {
      "cell_type": "code",
      "metadata": {
        "id": "UXJDIkA1CmgU",
        "colab": {
          "base_uri": "https://localhost:8080/"
        },
        "outputId": "70eb5238-c776-4b87-adc7-10de981a4658"
      },
      "source": [
        "#Neural Network \n",
        "from sklearn.neural_network import MLPClassifier\n",
        "nnc=MLPClassifier(hidden_layer_sizes=(7), activation=\"relu\", max_iter=10000)\n",
        "nnc.fit(x_train, y_train)\n",
        "predictionsNNC = nnc.predict(x_test)\n",
        "print(\"Accuracy using Neural Network : {}%\".format(round(accuracy_score(y_test, predictionsNNC)*100,2)) )\n",
        "prePCAnnc=accuracy_score(y_test, predictionsNNC)*100"
      ],
      "execution_count": 123,
      "outputs": [
        {
          "output_type": "stream",
          "text": [
            "Accuracy using Neural Network : 99.84%\n"
          ],
          "name": "stdout"
        }
      ]
    },
    {
      "cell_type": "code",
      "metadata": {
        "colab": {
          "base_uri": "https://localhost:8080/",
          "height": 217
        },
        "id": "XSBpJ69jAd7g",
        "outputId": "0246918d-0d69-4846-da48-e7d3fef0b209"
      },
      "source": [
        "from sklearn.preprocessing import StandardScaler\r\n",
        "scaler= StandardScaler()\r\n",
        "df= pd.DataFrame(scaler.fit_transform(dataset))\r\n",
        "df=df.assign(target=terget)\r\n",
        "df.head()"
      ],
      "execution_count": 96,
      "outputs": [
        {
          "output_type": "execute_result",
          "data": {
            "text/html": [
              "<div>\n",
              "<style scoped>\n",
              "    .dataframe tbody tr th:only-of-type {\n",
              "        vertical-align: middle;\n",
              "    }\n",
              "\n",
              "    .dataframe tbody tr th {\n",
              "        vertical-align: top;\n",
              "    }\n",
              "\n",
              "    .dataframe thead th {\n",
              "        text-align: right;\n",
              "    }\n",
              "</style>\n",
              "<table border=\"1\" class=\"dataframe\">\n",
              "  <thead>\n",
              "    <tr style=\"text-align: right;\">\n",
              "      <th></th>\n",
              "      <th>0</th>\n",
              "      <th>1</th>\n",
              "      <th>2</th>\n",
              "      <th>3</th>\n",
              "      <th>4</th>\n",
              "      <th>5</th>\n",
              "      <th>6</th>\n",
              "      <th>7</th>\n",
              "      <th>8</th>\n",
              "      <th>9</th>\n",
              "      <th>10</th>\n",
              "      <th>11</th>\n",
              "      <th>12</th>\n",
              "      <th>13</th>\n",
              "      <th>14</th>\n",
              "      <th>15</th>\n",
              "      <th>16</th>\n",
              "      <th>17</th>\n",
              "      <th>18</th>\n",
              "      <th>target</th>\n",
              "    </tr>\n",
              "  </thead>\n",
              "  <tbody>\n",
              "    <tr>\n",
              "      <th>0</th>\n",
              "      <td>-1.737406</td>\n",
              "      <td>0.807038</td>\n",
              "      <td>0.341747</td>\n",
              "      <td>-0.439567</td>\n",
              "      <td>-0.657965</td>\n",
              "      <td>1.048050</td>\n",
              "      <td>-1.328580</td>\n",
              "      <td>0.926108</td>\n",
              "      <td>0.395066</td>\n",
              "      <td>0.275042</td>\n",
              "      <td>0.475016</td>\n",
              "      <td>0.477947</td>\n",
              "      <td>0.0</td>\n",
              "      <td>0.0</td>\n",
              "      <td>0.0</td>\n",
              "      <td>0.589948</td>\n",
              "      <td>-0.788665</td>\n",
              "      <td>-0.194585</td>\n",
              "      <td>2.601773</td>\n",
              "      <td>1</td>\n",
              "    </tr>\n",
              "    <tr>\n",
              "      <th>1</th>\n",
              "      <td>-1.736295</td>\n",
              "      <td>0.807038</td>\n",
              "      <td>0.341747</td>\n",
              "      <td>1.564209</td>\n",
              "      <td>-0.657965</td>\n",
              "      <td>-2.275765</td>\n",
              "      <td>-1.328580</td>\n",
              "      <td>-0.065399</td>\n",
              "      <td>0.395066</td>\n",
              "      <td>0.275042</td>\n",
              "      <td>0.475016</td>\n",
              "      <td>0.477947</td>\n",
              "      <td>0.0</td>\n",
              "      <td>0.0</td>\n",
              "      <td>0.0</td>\n",
              "      <td>0.589948</td>\n",
              "      <td>0.679102</td>\n",
              "      <td>-0.851230</td>\n",
              "      <td>-0.104489</td>\n",
              "      <td>0</td>\n",
              "    </tr>\n",
              "    <tr>\n",
              "      <th>2</th>\n",
              "      <td>-1.735184</td>\n",
              "      <td>-2.064813</td>\n",
              "      <td>0.341747</td>\n",
              "      <td>1.163454</td>\n",
              "      <td>-0.657965</td>\n",
              "      <td>-0.613858</td>\n",
              "      <td>-1.328580</td>\n",
              "      <td>-0.065399</td>\n",
              "      <td>0.395066</td>\n",
              "      <td>0.275042</td>\n",
              "      <td>0.475016</td>\n",
              "      <td>0.477947</td>\n",
              "      <td>0.0</td>\n",
              "      <td>0.0</td>\n",
              "      <td>0.0</td>\n",
              "      <td>0.589948</td>\n",
              "      <td>0.679102</td>\n",
              "      <td>-0.851230</td>\n",
              "      <td>1.248642</td>\n",
              "      <td>0</td>\n",
              "    </tr>\n",
              "    <tr>\n",
              "      <th>3</th>\n",
              "      <td>-1.734072</td>\n",
              "      <td>0.807038</td>\n",
              "      <td>1.105334</td>\n",
              "      <td>1.163454</td>\n",
              "      <td>-0.657965</td>\n",
              "      <td>1.048050</td>\n",
              "      <td>-1.328580</td>\n",
              "      <td>0.926108</td>\n",
              "      <td>0.395066</td>\n",
              "      <td>0.275042</td>\n",
              "      <td>0.475016</td>\n",
              "      <td>0.477947</td>\n",
              "      <td>0.0</td>\n",
              "      <td>0.0</td>\n",
              "      <td>0.0</td>\n",
              "      <td>0.589948</td>\n",
              "      <td>-0.788665</td>\n",
              "      <td>-0.194585</td>\n",
              "      <td>2.601773</td>\n",
              "      <td>1</td>\n",
              "    </tr>\n",
              "    <tr>\n",
              "      <th>4</th>\n",
              "      <td>-1.732961</td>\n",
              "      <td>0.807038</td>\n",
              "      <td>0.341747</td>\n",
              "      <td>-0.840322</td>\n",
              "      <td>1.519837</td>\n",
              "      <td>0.494081</td>\n",
              "      <td>0.752683</td>\n",
              "      <td>0.926108</td>\n",
              "      <td>0.395066</td>\n",
              "      <td>0.275042</td>\n",
              "      <td>0.475016</td>\n",
              "      <td>0.477947</td>\n",
              "      <td>0.0</td>\n",
              "      <td>0.0</td>\n",
              "      <td>0.0</td>\n",
              "      <td>-1.729543</td>\n",
              "      <td>0.679102</td>\n",
              "      <td>-2.164521</td>\n",
              "      <td>-0.104489</td>\n",
              "      <td>0</td>\n",
              "    </tr>\n",
              "  </tbody>\n",
              "</table>\n",
              "</div>"
            ],
            "text/plain": [
              "          0         1         2         3  ...        16        17        18  target\n",
              "0 -1.737406  0.807038  0.341747 -0.439567  ... -0.788665 -0.194585  2.601773       1\n",
              "1 -1.736295  0.807038  0.341747  1.564209  ...  0.679102 -0.851230 -0.104489       0\n",
              "2 -1.735184 -2.064813  0.341747  1.163454  ...  0.679102 -0.851230  1.248642       0\n",
              "3 -1.734072  0.807038  1.105334  1.163454  ... -0.788665 -0.194585  2.601773       1\n",
              "4 -1.732961  0.807038  0.341747 -0.840322  ...  0.679102 -2.164521 -0.104489       0\n",
              "\n",
              "[5 rows x 20 columns]"
            ]
          },
          "metadata": {
            "tags": []
          },
          "execution_count": 96
        }
      ]
    },
    {
      "cell_type": "code",
      "metadata": {
        "colab": {
          "base_uri": "https://localhost:8080/"
        },
        "id": "ngvBM2FR9Jn2",
        "outputId": "258df70a-d90a-42ab-f96c-a064300cd0d8"
      },
      "source": [
        "#Dimensionality reduction\r\n",
        "from sklearn.decomposition import PCA\r\n",
        "pca=PCA(n_components=9)\r\n",
        "principal_compt=pca.fit_transform(scaler.fit_transform(dataset))\r\n",
        "print(principal_compt.shape)"
      ],
      "execution_count": 97,
      "outputs": [
        {
          "output_type": "stream",
          "text": [
            "(3108, 9)\n"
          ],
          "name": "stdout"
        }
      ]
    },
    {
      "cell_type": "code",
      "metadata": {
        "colab": {
          "base_uri": "https://localhost:8080/"
        },
        "id": "LNKu5W2uCvY0",
        "outputId": "2f16afcd-f993-4436-9d37-174ed99e2185"
      },
      "source": [
        "dataset.shape"
      ],
      "execution_count": 98,
      "outputs": [
        {
          "output_type": "execute_result",
          "data": {
            "text/plain": [
              "(3108, 19)"
            ]
          },
          "metadata": {
            "tags": []
          },
          "execution_count": 98
        }
      ]
    },
    {
      "cell_type": "code",
      "metadata": {
        "colab": {
          "base_uri": "https://localhost:8080/",
          "height": 251
        },
        "id": "A5B2QI18C9JN",
        "outputId": "20edbe38-ad4a-4603-9150-25ee527042d6"
      },
      "source": [
        "principal_df = pd.DataFrame(data=principal_compt, columns=[\"principle component 1\", \"principle component 2\",\"principle component 3\",\"principle component 4\",\"principle component 5\",\"principle component 6\",\"principle component 7\",\"principle component 8\",\"principle component 9\"])\r\n",
        "main_df=pd.concat([principal_df, df[[\"target\"]]], axis=1)\r\n",
        "main_df.head()"
      ],
      "execution_count": 99,
      "outputs": [
        {
          "output_type": "execute_result",
          "data": {
            "text/html": [
              "<div>\n",
              "<style scoped>\n",
              "    .dataframe tbody tr th:only-of-type {\n",
              "        vertical-align: middle;\n",
              "    }\n",
              "\n",
              "    .dataframe tbody tr th {\n",
              "        vertical-align: top;\n",
              "    }\n",
              "\n",
              "    .dataframe thead th {\n",
              "        text-align: right;\n",
              "    }\n",
              "</style>\n",
              "<table border=\"1\" class=\"dataframe\">\n",
              "  <thead>\n",
              "    <tr style=\"text-align: right;\">\n",
              "      <th></th>\n",
              "      <th>principle component 1</th>\n",
              "      <th>principle component 2</th>\n",
              "      <th>principle component 3</th>\n",
              "      <th>principle component 4</th>\n",
              "      <th>principle component 5</th>\n",
              "      <th>principle component 6</th>\n",
              "      <th>principle component 7</th>\n",
              "      <th>principle component 8</th>\n",
              "      <th>principle component 9</th>\n",
              "      <th>target</th>\n",
              "    </tr>\n",
              "  </thead>\n",
              "  <tbody>\n",
              "    <tr>\n",
              "      <th>0</th>\n",
              "      <td>-1.600591</td>\n",
              "      <td>-1.559875</td>\n",
              "      <td>-2.412495</td>\n",
              "      <td>-1.596243</td>\n",
              "      <td>0.550262</td>\n",
              "      <td>-0.028449</td>\n",
              "      <td>-0.067826</td>\n",
              "      <td>-0.111039</td>\n",
              "      <td>0.737695</td>\n",
              "      <td>1</td>\n",
              "    </tr>\n",
              "    <tr>\n",
              "      <th>1</th>\n",
              "      <td>-1.729476</td>\n",
              "      <td>-2.490744</td>\n",
              "      <td>1.343662</td>\n",
              "      <td>0.033217</td>\n",
              "      <td>-1.301588</td>\n",
              "      <td>1.579988</td>\n",
              "      <td>-0.384114</td>\n",
              "      <td>-0.170102</td>\n",
              "      <td>0.028671</td>\n",
              "      <td>0</td>\n",
              "    </tr>\n",
              "    <tr>\n",
              "      <th>2</th>\n",
              "      <td>-2.140327</td>\n",
              "      <td>-2.377235</td>\n",
              "      <td>0.783844</td>\n",
              "      <td>0.945352</td>\n",
              "      <td>1.266931</td>\n",
              "      <td>-0.280250</td>\n",
              "      <td>0.312297</td>\n",
              "      <td>0.013525</td>\n",
              "      <td>0.616270</td>\n",
              "      <td>0</td>\n",
              "    </tr>\n",
              "    <tr>\n",
              "      <th>3</th>\n",
              "      <td>-2.118040</td>\n",
              "      <td>-2.121633</td>\n",
              "      <td>-2.052135</td>\n",
              "      <td>-1.216687</td>\n",
              "      <td>-0.161224</td>\n",
              "      <td>-0.210741</td>\n",
              "      <td>0.017386</td>\n",
              "      <td>-0.135718</td>\n",
              "      <td>1.095159</td>\n",
              "      <td>1</td>\n",
              "    </tr>\n",
              "    <tr>\n",
              "      <th>4</th>\n",
              "      <td>-2.094631</td>\n",
              "      <td>1.709254</td>\n",
              "      <td>0.397361</td>\n",
              "      <td>-1.454183</td>\n",
              "      <td>-0.626358</td>\n",
              "      <td>-0.336358</td>\n",
              "      <td>-0.209197</td>\n",
              "      <td>-0.037578</td>\n",
              "      <td>-0.002056</td>\n",
              "      <td>0</td>\n",
              "    </tr>\n",
              "  </tbody>\n",
              "</table>\n",
              "</div>"
            ],
            "text/plain": [
              "   principle component 1  principle component 2  ...  principle component 9  target\n",
              "0              -1.600591              -1.559875  ...               0.737695       1\n",
              "1              -1.729476              -2.490744  ...               0.028671       0\n",
              "2              -2.140327              -2.377235  ...               0.616270       0\n",
              "3              -2.118040              -2.121633  ...               1.095159       1\n",
              "4              -2.094631               1.709254  ...              -0.002056       0\n",
              "\n",
              "[5 rows x 10 columns]"
            ]
          },
          "metadata": {
            "tags": []
          },
          "execution_count": 99
        }
      ]
    },
    {
      "cell_type": "code",
      "metadata": {
        "id": "rJR_aeOiF5N9"
      },
      "source": [
        "X= main_df.drop(\"target\" , axis=1)\r\n",
        "y= main_df[\"target\"]"
      ],
      "execution_count": 100,
      "outputs": []
    },
    {
      "cell_type": "code",
      "metadata": {
        "colab": {
          "base_uri": "https://localhost:8080/"
        },
        "id": "PMjJCxboH7ON",
        "outputId": "578b02c8-da45-4fe2-b3d8-68831fa7d102"
      },
      "source": [
        "x_train, x_test, y_train, y_test = train_test_split(X , y , test_size=0.2, random_state=42)\r\n",
        "x_train.shape"
      ],
      "execution_count": 101,
      "outputs": [
        {
          "output_type": "execute_result",
          "data": {
            "text/plain": [
              "(2486, 9)"
            ]
          },
          "metadata": {
            "tags": []
          },
          "execution_count": 101
        }
      ]
    },
    {
      "cell_type": "code",
      "metadata": {
        "colab": {
          "base_uri": "https://localhost:8080/"
        },
        "id": "u5KuWh0lI1WS",
        "outputId": "88918cc5-4291-4e39-f019-fae7c5066447"
      },
      "source": [
        "from sklearn.svm import SVC\r\n",
        "svc_2 = SVC(kernel=\"linear\")\r\n",
        "svc_2.fit(x_train, y_train)\r\n",
        "predictionsSVCpca = svc_2.predict(x_test)\r\n",
        "print(\"Accuracy using Support Vector Machine After PCA : {}%\".format(round(accuracy_score(y_test, predictionsSVCpca)*100,2)) )\r\n",
        "postPCAsvm=accuracy_score(y_test, predictionsSVCpca)*100"
      ],
      "execution_count": 124,
      "outputs": [
        {
          "output_type": "stream",
          "text": [
            "Accuracy using Support Vector Machine After PCA : 94.21%\n"
          ],
          "name": "stdout"
        }
      ]
    },
    {
      "cell_type": "code",
      "metadata": {
        "colab": {
          "base_uri": "https://localhost:8080/"
        },
        "id": "dWIbS7LiKgr8",
        "outputId": "c96652e8-25b6-4410-8f20-676c3e092f4e"
      },
      "source": [
        "#Random Forest\r\n",
        "from sklearn.ensemble import RandomForestClassifier\r\n",
        "rfc_2 = RandomForestClassifier(n_estimators=50)\r\n",
        "rfc_2.fit(x_train, y_train)\r\n",
        "predictionsRFCpca = rfc_2.predict(x_test)\r\n",
        "print(\"Accuracy using Random Forest After PCA: {}%\".format(round(accuracy_score(y_test, predictionsRFCpca)*100,2)) )\r\n",
        "postPCArfc=accuracy_score(y_test, predictionsRFCpca)*100"
      ],
      "execution_count": 125,
      "outputs": [
        {
          "output_type": "stream",
          "text": [
            "Accuracy using Random Forest After PCA: 99.52%\n"
          ],
          "name": "stdout"
        }
      ]
    },
    {
      "cell_type": "code",
      "metadata": {
        "colab": {
          "base_uri": "https://localhost:8080/"
        },
        "id": "-ydmQ_UWLBwy",
        "outputId": "3eba60a9-0079-44e7-b064-75b219704fe0"
      },
      "source": [
        "#Neural Network \r\n",
        "from sklearn.neural_network import MLPClassifier\r\n",
        "nnc_2=MLPClassifier(hidden_layer_sizes=(7), activation=\"relu\", max_iter=10000)\r\n",
        "nnc_2.fit(x_train, y_train)\r\n",
        "predictionsNNCpca = nnc_2.predict(x_test)\r\n",
        "print(\"Accuracy using Neural Network After PCA : {}%\".format(round(accuracy_score(y_test, predictionsNNCpca)*100,2)) )\r\n",
        "postPCAnnc=accuracy_score(y_test, predictionsNNCpca)*100"
      ],
      "execution_count": 126,
      "outputs": [
        {
          "output_type": "stream",
          "text": [
            "Accuracy using Neural Network After PCA : 99.84%\n"
          ],
          "name": "stdout"
        }
      ]
    },
    {
      "cell_type": "code",
      "metadata": {
        "colab": {
          "base_uri": "https://localhost:8080/",
          "height": 296
        },
        "id": "eh7xO7rlL01Z",
        "outputId": "7465c5c0-93af-4eb2-e869-026e49df8040"
      },
      "source": [
        "#Comparing the accuracy and plot them as a bar chart\r\n",
        "\r\n",
        "import matplotlib\r\n",
        "import matplotlib.pyplot as plt\r\n",
        "import numpy as np\r\n",
        "\r\n",
        "\r\n",
        "# labels = ['G1', 'G2', 'G3', 'G4', 'G5']\r\n",
        "v1 = predictionsSVC\r\n",
        "v2 = predictionsSVCpca\r\n",
        "\r\n",
        "# x = np.arange(len(labels))  # the label locations\r\n",
        "LenOFv1 = np.sum(predictionsSVC)\r\n",
        "LenOFv2 = np.sum(predictionsSVCpca)\r\n",
        "width = 0.35  # the width of the bars\r\n",
        "\r\n",
        "fig, ax = plt.subplots()\r\n",
        "rects1 = ax.bar(LenOFv1 - width/2, predictionsSVC, width, label='SVM pre-PCA')\r\n",
        "rects2 = ax.bar(LenOFv2 + width/2, predictionsSVCpca, width, label='SVM post-PCA')\r\n",
        "\r\n",
        "# Add some text for labels, title and custom x-axis tick labels, etc.\r\n",
        "ax.set_ylabel('Scores')\r\n",
        "ax.set_title('Scores by accuracy')\r\n",
        "ax.legend()\r\n",
        "\r\n",
        "\r\n",
        "def autolabel(rects):\r\n",
        "    \"\"\"Attach a text label above each bar in *rects*, displaying its height.\"\"\"\r\n",
        "    for rect in rects:\r\n",
        "        height = rect.get_height()\r\n",
        "        ax.annotate('{}'.format(height),\r\n",
        "                    xy=(rect.get_x() + rect.get_width() / 2, height),\r\n",
        "                    xytext=(0, 3),  # 3 points vertical offset\r\n",
        "                    textcoords=\"offset points\",\r\n",
        "                    ha='center', va='bottom')\r\n",
        "\r\n",
        "\r\n",
        "autolabel(rects1)\r\n",
        "autolabel(rects2)\r\n",
        "\r\n",
        "fig.tight_layout()\r\n",
        "\r\n",
        "plt.show()"
      ],
      "execution_count": 143,
      "outputs": [
        {
          "output_type": "display_data",
          "data": {
            "image/png": "[encoded data removed]",
            "text/plain": [
              "<Figure size 432x288 with 1 Axes>"
            ]
          },
          "metadata": {
            "tags": [],
            "needs_background": "light"
          }
        }
      ]
    },
    {
      "cell_type": "code",
      "metadata": {
        "colab": {
          "base_uri": "https://localhost:8080/",
          "height": 296
        },
        "id": "rOCOA9SSM4qT",
        "outputId": "9d5cbc08-5292-4212-c736-3c0e86ba378a"
      },
      "source": [
        "#Comparing the accuracy and plot them as a bar chart\r\n",
        "\r\n",
        "import matplotlib\r\n",
        "import matplotlib.pyplot as plt\r\n",
        "import numpy as np\r\n",
        "\r\n",
        "# x = np.arange(len(labels))  # the label locations\r\n",
        "LenOFv3 = np.sum(predictionsRFC)\r\n",
        "LenOFv4 = np.sum(predictionsRFCpca)\r\n",
        "width = 0.35  # the width of the bars\r\n",
        "\r\n",
        "fig, ax = plt.subplots()\r\n",
        "rects1 = ax.bar(LenOFv3 - width/2, predictionsRFC, width, label='RFC pre-PCA')\r\n",
        "rects2 = ax.bar(LenOFv4 + width/2, predictionsRFCpca, width, label='RFC post-PCA')\r\n",
        "\r\n",
        "# Add some text for labels, title and custom x-axis tick labels, etc.\r\n",
        "ax.set_ylabel('Scores')\r\n",
        "ax.set_title('Scores by accuracy')\r\n",
        "ax.legend()\r\n",
        "\r\n",
        "\r\n",
        "def autolabel(rects):\r\n",
        "    \"\"\"Attach a text label above each bar in *rects*, displaying its height.\"\"\"\r\n",
        "    for rect in rects:\r\n",
        "        height = rect.get_height()\r\n",
        "        ax.annotate('{}'.format(height),\r\n",
        "                    xy=(rect.get_x() + rect.get_width() / 2, height),\r\n",
        "                    xytext=(0, 3),  # 3 points vertical offset\r\n",
        "                    textcoords=\"offset points\",\r\n",
        "                    ha='center', va='bottom')\r\n",
        "\r\n",
        "\r\n",
        "autolabel(rects1)\r\n",
        "autolabel(rects2)\r\n",
        "\r\n",
        "fig.tight_layout()\r\n",
        "\r\n",
        "plt.show()"
      ],
      "execution_count": 136,
      "outputs": [
        {
          "output_type": "display_data",
          "data": {
            "image/png": "[encoded data removed]",
            "text/plain": [
              "<Figure size 432x288 with 1 Axes>"
            ]
          },
          "metadata": {
            "tags": [],
            "needs_background": "light"
          }
        }
      ]
    },
    {
      "cell_type": "code",
      "metadata": {
        "colab": {
          "base_uri": "https://localhost:8080/",
          "height": 296
        },
        "id": "x8SYCxpkNb_9",
        "outputId": "5527381c-026d-4c9a-c1c9-85ab796e1dc7"
      },
      "source": [
        "#Comparing the accuracy and plot them as a bar chart\r\n",
        "\r\n",
        "import matplotlib\r\n",
        "import matplotlib.pyplot as plt\r\n",
        "import numpy as np\r\n",
        "\r\n",
        "# x = np.arange(len(labels))  # the label locations\r\n",
        "LenOFv5 = np.sum(predictionsNNC)\r\n",
        "LenOFv6 = np.sum(predictionsNNCpca)\r\n",
        "width = 0.45  # the width of the bars\r\n",
        "\r\n",
        "fig, ax = plt.subplots()\r\n",
        "rects1 = ax.bar(LenOFv5 - width/2, predictionsNNC, width, label='NNC pre-PCA')\r\n",
        "rects2 = ax.bar(LenOFv6 + width/2, predictionsNNCpca, width, label='NNC post-PCA')\r\n",
        "\r\n",
        "# Add some text for labels, title and custom x-axis tick labels, etc.\r\n",
        "ax.set_ylabel('Scores')\r\n",
        "ax.set_title('Scores by accuracy')\r\n",
        "ax.legend()\r\n",
        "\r\n",
        "\r\n",
        "def autolabel(rects):\r\n",
        "    \"\"\"Attach a text label above each bar in *rects*, displaying its height.\"\"\"\r\n",
        "    for rect in rects:\r\n",
        "        height = rect.get_height()\r\n",
        "        ax.annotate('{}'.format(height),\r\n",
        "                    xy=(rect.get_x() + rect.get_width() / 2, height),\r\n",
        "                    xytext=(0, 3),  # 3 points vertical offset\r\n",
        "                    textcoords=\"offset points\",\r\n",
        "                    ha='center', va='bottom')\r\n",
        "\r\n",
        "\r\n",
        "autolabel(rects1)\r\n",
        "autolabel(rects2)\r\n",
        "\r\n",
        "fig.tight_layout()\r\n",
        "\r\n",
        "plt.show()"
      ],
      "execution_count": 138,
      "outputs": [
        {
          "output_type": "display_data",
          "data": {
            "image/png": "[encoded data removed]",
            "text/plain": [
              "<Figure size 432x288 with 1 Axes>"
            ]
          },
          "metadata": {
            "tags": [],
            "needs_background": "light"
          }
        }
      ]
    },
    {
      "cell_type": "code",
      "metadata": {
        "id": "LTbNIFvDTUcb"
      },
      "source": [
        ""
      ],
      "execution_count": null,
      "outputs": []
    }
  ]
}